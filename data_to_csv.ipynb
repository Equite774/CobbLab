{
 "cells": [
  {
   "cell_type": "code",
   "execution_count": 40,
   "metadata": {},
   "outputs": [],
   "source": [
    "import xarray as xr\n",
    "import pandas as pd\n",
    "import numpy as np\n",
    "import glob\n",
    "import os"
   ]
  },
  {
   "cell_type": "code",
   "execution_count": 32,
   "metadata": {},
   "outputs": [],
   "source": [
    "def xarray_to_csv(ds, title, feature, is_chirps):\n",
    "    \"\"\"\n",
    "    Convert an xarray DataArray to a pandas Series.\n",
    "    \"\"\"\n",
    "    if is_chirps:\n",
    "        data_ds = ds[feature].sel(\n",
    "            latitude=ds.latitude.sel(latitude=20.9047, method='nearest'),\n",
    "            longitude=ds.longitude.sel(longitude=37.1592, method='nearest'),\n",
    "            method='nearest'\n",
    "        )\n",
    "    else:\n",
    "        data_ds = ds[feature].sel(\n",
    "            lat=ds.lat.sel(lat=20.9047, method='nearest'),\n",
    "            lon=ds.lon.sel(lon=37.1592, method='nearest'),\n",
    "            method='nearest'\n",
    "        )\n",
    "    data_df = data_ds.to_dataframe().reset_index()\n",
    "    data_df.to_csv(f\"csv/{title.replace(' ', '_')}_37.1592_20.9047.csv\", index=False)"
   ]
  },
  {
   "cell_type": "code",
   "execution_count": 33,
   "metadata": {},
   "outputs": [],
   "source": [
    "links = {\"NASA GISS Surface Temperature Analysis Long Term Mean\" : [\"air.2x2.250.mon.1991-2020.ltm.comb.nc\", 'air'],\n",
    "         \"NOAA Extended Reconstructed SST V5 Long Term Mean\" : [\"sst.mnmean.nc\", 'sst'],\n",
    "         \"Global Precipitation Climatology Project (GPCP) Monthly Analysis Product\" : [\"precip.mon.mean.nc\", 'precip'],\n",
    "         \"CHIRPS V3 Monthly Mean\" : [\"chirps-v3.0.monthly.nc\", 'precip'],\n",
    "         \"NOAA Global Surface Temperature Long Term Mean\" : [\"air.mon.v6.ltm.1991.2020.nc\", 'air'],\n",
    "         \"NOAA OI SST V2 High Resolution Dataset\" : [\"sst.mon.mean.nc\", 'sst']}"
   ]
  },
  {
   "cell_type": "code",
   "execution_count": 34,
   "metadata": {},
   "outputs": [
    {
     "name": "stderr",
     "output_type": "stream",
     "text": [
      "/Users/chaiharsha/Documents/CobbLab/CobbLab/env/lib/python3.9/site-packages/xarray/coding/times.py:992: SerializationWarning: Unable to decode time axis into full numpy.datetime64 objects, continuing using cftime.datetime objects instead, reason: dates out of range\n",
      "  dtype = _decode_cf_datetime_dtype(data, units, calendar, self.use_cftime)\n",
      "/Users/chaiharsha/Documents/CobbLab/CobbLab/env/lib/python3.9/site-packages/xarray/core/indexing.py:526: SerializationWarning: Unable to decode time axis into full numpy.datetime64 objects, continuing using cftime.datetime objects instead, reason: dates out of range\n",
      "  return np.asarray(self.get_duck_array(), dtype=dtype)\n",
      "/Users/chaiharsha/Documents/CobbLab/CobbLab/env/lib/python3.9/site-packages/xarray/coding/times.py:992: SerializationWarning: Unable to decode time axis into full numpy.datetime64 objects, continuing using cftime.datetime objects instead, reason: dates out of range\n",
      "  dtype = _decode_cf_datetime_dtype(data, units, calendar, self.use_cftime)\n",
      "/Users/chaiharsha/Documents/CobbLab/CobbLab/env/lib/python3.9/site-packages/xarray/core/indexing.py:526: SerializationWarning: Unable to decode time axis into full numpy.datetime64 objects, continuing using cftime.datetime objects instead, reason: dates out of range\n",
      "  return np.asarray(self.get_duck_array(), dtype=dtype)\n"
     ]
    }
   ],
   "source": [
    "for title, ls in links.items():\n",
    "    filename, feature = ls[0], ls[1]\n",
    "    ds = xr.open_dataset(filename)\n",
    "    is_chirps = title[:6] == \"CHIRPS\"\n",
    "    xarray_to_csv(ds, title, feature, is_chirps)\n",
    "    ds.close()"
   ]
  },
  {
   "cell_type": "code",
   "execution_count": 44,
   "metadata": {},
   "outputs": [],
   "source": [
    "records = []\n",
    "for path in sorted(glob.glob(\"salinity_data/IAP_Salinity_*.nc\")):\n",
    "    ds = xr.open_dataset(path)\n",
    "\n",
    "    # Get time info\n",
    "    year = int(ds.attrs.get(\"StartYear\"))\n",
    "    month = int(ds.attrs.get(\"StartMonth\"))\n",
    "    timestamp = pd.Timestamp(f\"{year}-{month:02d}-01\")\n",
    "\n",
    "    # Extract salinity\n",
    "    sal_val = ds[\"salinity\"].sel(\n",
    "        lat=ds.lat.sel(lat=21.0, method=\"nearest\"),\n",
    "        lon=ds.lon.sel(lon=37.5, method=\"nearest\"),\n",
    "        depth_std=5.0,\n",
    "        method=\"nearest\"\n",
    "    ).item()\n",
    "\n",
    "    records.append({\n",
    "        \"time\": timestamp,\n",
    "        \"lat\" : 21.0,\n",
    "        \"lon\": 37.5,\n",
    "        \"depth_std\": 5.0,\n",
    "        \"salinity\": sal_val\n",
    "    })\n",
    "\n",
    "    ds.close()\n",
    "\n",
    "data_df = pd.DataFrame(records).sort_values(\"time\")\n",
    "data_df.to_csv(f\"csv/{title.replace(' ', '_')}_37.5_21.0.csv\", index=False)"
   ]
  }
 ],
 "metadata": {
  "kernelspec": {
   "display_name": "env",
   "language": "python",
   "name": "python3"
  },
  "language_info": {
   "codemirror_mode": {
    "name": "ipython",
    "version": 3
   },
   "file_extension": ".py",
   "mimetype": "text/x-python",
   "name": "python",
   "nbconvert_exporter": "python",
   "pygments_lexer": "ipython3",
   "version": "3.9.13"
  }
 },
 "nbformat": 4,
 "nbformat_minor": 5
}
